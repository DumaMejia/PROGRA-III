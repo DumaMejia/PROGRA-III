{
  "nbformat": 4,
  "nbformat_minor": 0,
  "metadata": {
    "colab": {
      "name": "EntrenandoIA.ipynb",
      "provenance": [],
      "authorship_tag": "ABX9TyPfzHKAyglsT7JdFodPo62o",
      "include_colab_link": true
    },
    "kernelspec": {
      "name": "python3",
      "display_name": "Python 3"
    },
    "language_info": {
      "name": "python"
    }
  },
  "cells": [
    {
      "cell_type": "markdown",
      "metadata": {
        "id": "view-in-github",
        "colab_type": "text"
      },
      "source": [
        "<a href=\"https://colab.research.google.com/github/USIS007420/PROGRA-III/blob/main/EntrenandoIA_Conversores.ipynb\" target=\"_parent\"><img src=\"https://colab.research.google.com/assets/colab-badge.svg\" alt=\"Open In Colab\"/></a>"
      ]
    },
    {
      "cell_type": "markdown",
      "metadata": {
        "id": "HIMVpM-0knDk"
      },
      "source": [
        "LONGITUDES"
      ]
    },
    {
      "cell_type": "code",
      "metadata": {
        "id": "6Pirq9j1idCl"
      },
      "source": [
        "#importacion de librerias a utilizar\n",
        "import tensorflow as tf\n",
        "import pandas as pd\n",
        "import matplotlib.pyplot as plt\n",
        "import seaborn as sns"
      ],
      "execution_count": null,
      "outputs": []
    },
    {
      "cell_type": "code",
      "metadata": {
        "id": "ePxGmOUprKLb"
      },
      "source": [
        "MC = pd.read_csv(\"/content/LONGITUD.csv\", sep=\";\")"
      ],
      "execution_count": 233,
      "outputs": []
    },
    {
      "cell_type": "code",
      "metadata": {
        "id": "qvNmm1UKrPWV"
      },
      "source": [
        "modelo = tf.keras.Sequential()\n",
        "modelo.add(tf.keras.layers.Dense(units=1, input_shape=[1]))"
      ],
      "execution_count": null,
      "outputs": []
    },
    {
      "cell_type": "code",
      "metadata": {
        "id": "NVHVCVU7rR_B"
      },
      "source": [
        "modelo.compile(optimizer=tf.keras.optimizers.Adam(1),loss='mean_squared_error')"
      ],
      "execution_count": null,
      "outputs": []
    },
    {
      "cell_type": "code",
      "metadata": {
        "id": "Y14TZI2nmOcf"
      },
      "source": [
        "\n",
        "etiquetas = [\n",
        "           [\"1. METRO\", \"2. CENTIMETRO\", \"3. KILOMETRO\", \"4. YARDA\", \"5. PIE\"]\n",
        "]\n",
        "\n",
        "print(etiquetas)\n",
        "\n",
        "de = int(input(\"DE: \"))\n",
        "a = int(input(\"A: \"))\n",
        "cantidad = float(input(\"Cant: \"))\n",
        "\n",
        "if de==1:\n",
        "  X = MC[\"metro\"]\n",
        "if a==1:\n",
        "  Y = MC[\"metro\"]\n",
        "if de==2:\n",
        "  X = MC[\"centimetros\"]\n",
        "if a==2:\n",
        "  Y = MC[\"centimetros\"]\n",
        "if de==3:\n",
        "  X = MC[\"kilometro\"]\n",
        "if a==3:\n",
        "  Y = MC[\"kilometro\"]\n",
        "if de==4:\n",
        "  X = MC[\"yarda\"]\n",
        "if a==4:\n",
        "  Y = MC[\"yarda\"]\n",
        "if de==5:\n",
        "  X = MC[\"pie\"]\n",
        "if a==5:\n",
        "  Y = MC[\"pie\"]\n",
        "\n",
        "epolon = modelo.fit(X,Y,epochs=2000, verbose=0)\n",
        "RES = modelo.predict([cantidad])\n",
        "print(RES)\n"
      ],
      "execution_count": null,
      "outputs": []
    },
    {
      "cell_type": "markdown",
      "metadata": {
        "id": "buCCutr1Oqwa"
      },
      "source": [
        "MASA "
      ]
    },
    {
      "cell_type": "code",
      "metadata": {
        "id": "Hx0kNH15cOor"
      },
      "source": [
        "MA = pd.read_csv(\"/content/MASA.csv\", sep=\";\")"
      ],
      "execution_count": 209,
      "outputs": []
    },
    {
      "cell_type": "code",
      "metadata": {
        "id": "Y4Y_gUzwO0UY"
      },
      "source": [
        "modeloM = tf.keras.Sequential()\n",
        "modeloM.add(tf.keras.layers.Dense(units=1, input_shape=[1]))"
      ],
      "execution_count": 210,
      "outputs": []
    },
    {
      "cell_type": "code",
      "metadata": {
        "id": "lHzSSFrSO8fl"
      },
      "source": [
        "modeloM.compile(optimizer=tf.keras.optimizers.Adam(1),loss='mean_squared_error')"
      ],
      "execution_count": 211,
      "outputs": []
    },
    {
      "cell_type": "code",
      "metadata": {
        "id": "1DC0ffX_O-J6"
      },
      "source": [
        "etiquetas = [\n",
        "           [\"1. KILOGRAMO\", \"2. GRAMO\", \"3. LIBRA\", \"4. ONZA\", \"5. TONELADA\"]\n",
        "]\n",
        "\n",
        "print(etiquetas)\n",
        "\n",
        "de = int(input(\"DE: \"))\n",
        "a = int(input(\"A: \"))\n",
        "cantidad = float(input(\"Cant: \"))\n",
        "\n",
        "if de==1:\n",
        "  X = MA[\"kilogramo\"]\n",
        "if a==1:\n",
        "  Y = MA[\"kilogramo\"]\n",
        "if de==2:\n",
        "  X = MA[\"gramo\"]\n",
        "if a==2:\n",
        "  Y = MA[\"gramo\"]\n",
        "if de==3:\n",
        "  X = MA[\"libra\"]\n",
        "if a==3:\n",
        "  Y = MA[\"libra\"]\n",
        "if de==4:\n",
        "  X = MA[\"onza\"]\n",
        "if a==4:\n",
        "  Y = MA[\"onza\"]\n",
        "if de==5:\n",
        "  X = MA[\"tonelada\"]\n",
        "if a==5:\n",
        "  Y = MA[\"tonelada\"]\n",
        "\n",
        "Epomasa = modeloM.fit(X,Y,epochs=2000, verbose=0)\n",
        "RES = modeloM.predict([cantidad])\n",
        "print(RES)"
      ],
      "execution_count": null,
      "outputs": []
    },
    {
      "cell_type": "markdown",
      "metadata": {
        "id": "XG-b5t0Vft2C"
      },
      "source": [
        "ALMACENAMIENTO"
      ]
    },
    {
      "cell_type": "code",
      "metadata": {
        "id": "OXNflha6gD4H"
      },
      "source": [
        "AL = pd.read_csv(\"/content/ALMACENAMIENTO.csv\", sep=\";\")"
      ],
      "execution_count": 226,
      "outputs": []
    },
    {
      "cell_type": "code",
      "metadata": {
        "id": "pSPhJYUmgHmE"
      },
      "source": [
        "modeloAL = tf.keras.Sequential()\n",
        "modeloAL.add(tf.keras.layers.Dense(units=1, input_shape=[1]))"
      ],
      "execution_count": 227,
      "outputs": []
    },
    {
      "cell_type": "code",
      "metadata": {
        "id": "q1FNxUMsgMvm"
      },
      "source": [
        "modeloAL.compile(optimizer=tf.keras.optimizers.Adam(1),loss='mean_squared_error')"
      ],
      "execution_count": 228,
      "outputs": []
    },
    {
      "cell_type": "code",
      "metadata": {
        "id": "lZN-rmJsgR2D"
      },
      "source": [
        "etiquetas = [\n",
        "           [\"1. kilobyte\", \"2. megabyte\", \"3. gigabyte\", \"4. terabyte\"]\n",
        "]\n",
        "\n",
        "print(etiquetas)\n",
        "\n",
        "de = int(input(\"DE: \"))\n",
        "a = int(input(\"A: \"))\n",
        "cantidad = float(input(\"Cant: \"))\n",
        "\n",
        "if de==1:\n",
        "  X = AL[\"kilobyte\"]\n",
        "if a==1:\n",
        "  Y = AL[\"kilobyte\"]\n",
        "if de==2:\n",
        "  X = AL[\"megabyte\"]\n",
        "if a==2:\n",
        "  Y = AL[\"megabyte\"]\n",
        "if de==3:\n",
        "  X = AL[\"gigabyte\"]\n",
        "if a==3:\n",
        "  Y = AL[\"gigabyte\"]\n",
        "if de==4:\n",
        "  X = AL[\"terabyte\"]\n",
        "if a==4:\n",
        "  Y = AL[\"terabyte\"]\n",
        "\n",
        "\n",
        "EpoAL = modeloAL.fit(X,Y,epochs=2000, verbose=0)\n",
        "RES = modeloAL.predict([cantidad])\n",
        "print(RES)"
      ],
      "execution_count": null,
      "outputs": []
    },
    {
      "cell_type": "markdown",
      "metadata": {
        "id": "2BtFkUwpiZ6Q"
      },
      "source": [
        "TIEMPO"
      ]
    },
    {
      "cell_type": "code",
      "metadata": {
        "id": "HPcpV5e3idKV"
      },
      "source": [
        "TI = pd.read_csv(\"/content/TIEMPOS.csv\", sep=\";\")"
      ],
      "execution_count": 251,
      "outputs": []
    },
    {
      "cell_type": "code",
      "metadata": {
        "id": "l4-Hjklai2ph"
      },
      "source": [
        "modeloTI = tf.keras.Sequential()\n",
        "modeloTI.add(tf.keras.layers.Dense(units=1, input_shape=[1]))"
      ],
      "execution_count": 252,
      "outputs": []
    },
    {
      "cell_type": "code",
      "metadata": {
        "id": "pOXbylW-i7Ga"
      },
      "source": [
        "modeloTI.compile(optimizer=tf.keras.optimizers.Adam(1),loss='mean_squared_error')"
      ],
      "execution_count": 253,
      "outputs": []
    },
    {
      "cell_type": "code",
      "metadata": {
        "colab": {
          "base_uri": "https://localhost:8080/"
        },
        "id": "X7wG-0Ati_du",
        "outputId": "6d184f62-44ef-421a-e39b-4246b353e5c4"
      },
      "source": [
        "etiquetas = [\n",
        "           [\"1. SEGUNDOS\", \"2. MINUTOS\", \"3. HORAS\", \"4. DIAS\", \"5. SEMANAS\"]\n",
        "]\n",
        "\n",
        "print(etiquetas)\n",
        "\n",
        "de = int(input(\"DE: \"))\n",
        "a = int(input(\"A: \"))\n",
        "cantidad = float(input(\"Cant: \"))\n",
        "\n",
        "if de==1:\n",
        "  X = TI[\"segundos\"]\n",
        "if a==1:\n",
        "  Y = TI[\"segundos\"]\n",
        "if de==2:\n",
        "  X = TI[\"minutos\"]\n",
        "if a==2:\n",
        "  Y = TI[\"minutos\"]\n",
        "if de==3:\n",
        "  X = TI[\"hour\"]\n",
        "if a==3:\n",
        "  Y = TI[\"hour\"]\n",
        "if de==4:\n",
        "  X = TI[\"days\"]\n",
        "if a==4:\n",
        "  Y = TI[\"days\"]\n",
        "if de==5:\n",
        "  X = TI[\"semanas\"]\n",
        "if a==5:\n",
        "  Y = TI[\"semanas\"]\n",
        "\n",
        "\n",
        "EpoTI = modeloTI.fit(X,Y,epochs=2000, verbose=0)\n",
        "RES = modeloTI.predict([cantidad])\n",
        "print(RES)"
      ],
      "execution_count": 254,
      "outputs": [
        {
          "output_type": "stream",
          "name": "stdout",
          "text": [
            "[['1. SEGUNDOS', '2. MINUTOS', '3. HORAS', '4. DIAS', '5. SEMANAS']]\n",
            "DE: 4\n",
            "A: 3\n",
            "Cant: 3\n",
            "[[-41949.008]]\n"
          ]
        }
      ]
    },
    {
      "cell_type": "markdown",
      "metadata": {
        "id": "3z4wswd3pD9N"
      },
      "source": [
        "AREA"
      ]
    },
    {
      "cell_type": "code",
      "metadata": {
        "id": "ofF5zkE9pGeQ"
      },
      "source": [
        "AR = pd.read_csv(\"/content/AREA.csv\", sep=\";\")"
      ],
      "execution_count": 270,
      "outputs": []
    },
    {
      "cell_type": "code",
      "metadata": {
        "id": "Z-NG6O-WrgaH"
      },
      "source": [
        "modeloAR = tf.keras.Sequential()\n",
        "modeloAR.add(tf.keras.layers.Dense(units=1, input_shape=[1]))"
      ],
      "execution_count": 261,
      "outputs": []
    },
    {
      "cell_type": "code",
      "metadata": {
        "id": "GaDF8kvErjM9"
      },
      "source": [
        "modeloAR.compile(optimizer=tf.keras.optimizers.Adam(1),loss='mean_squared_error')"
      ],
      "execution_count": 262,
      "outputs": []
    },
    {
      "cell_type": "code",
      "metadata": {
        "id": "LvH3LPoYr3I-"
      },
      "source": [
        "etiquetas = [\n",
        "           [\"1. METRO CUADRADO\", \"2. YARDA CUADRADO\", \"3. PIE CUADRADO\", \"4. PULGADA CUADRADO\", \"5. KILOMETRO CUADRADO\"]\n",
        "]\n",
        "\n",
        "print(etiquetas)\n",
        "\n",
        "de = int(input(\"DE: \"))\n",
        "a = int(input(\"A: \"))\n",
        "cantidad = float(input(\"Cant: \"))\n",
        "\n",
        "if de==1:\n",
        "  X = AR[\"metroc\"]\n",
        "if a==1:\n",
        "  Y = AR[\"metroc\"]\n",
        "if de==2:\n",
        "  X = AR[\"yardac\"]\n",
        "if a==2:\n",
        "  Y = AR[\"yardac\"]\n",
        "if de==3:\n",
        "  X = AR[\"piec\"]\n",
        "if a==3:\n",
        "  Y = AR[\"piec\"]\n",
        "if de==4:\n",
        "  X = AR[\"pulgadac\"]\n",
        "if a==4:\n",
        "  Y = AR[\"pulgadac\"]\n",
        "if de==5:\n",
        "  X = AR[\"kilometroc\"]\n",
        "if a==5:\n",
        "  Y = AR[\"kilometroc\"]\n",
        "\n",
        "\n",
        "EpoAR = modeloAR.fit(X,Y,epochs=2000, verbose=0)\n",
        "RES = modeloAR.predict([cantidad])\n",
        "print(RES)"
      ],
      "execution_count": null,
      "outputs": []
    },
    {
      "cell_type": "markdown",
      "metadata": {
        "id": "gpIS8NXIwtdt"
      },
      "source": [
        "MESES ACUMULADOS"
      ]
    },
    {
      "cell_type": "code",
      "metadata": {
        "id": "aoEfzLh4wvNi"
      },
      "source": [
        "MES = pd.read_csv(\"/content/MESES.csv\", sep=\";\")"
      ],
      "execution_count": 289,
      "outputs": []
    },
    {
      "cell_type": "code",
      "metadata": {
        "id": "2akB1zUvyd0I"
      },
      "source": [
        "X = MES[\"meses\"]\n",
        "\n",
        "Y = MES[\"acumulacion\"]"
      ],
      "execution_count": 290,
      "outputs": []
    },
    {
      "cell_type": "code",
      "metadata": {
        "id": "jPYWqmUSyEP3"
      },
      "source": [
        "modeloMES = tf.keras.Sequential()\n",
        "modeloMES.add(tf.keras.layers.Dense(units=1, input_shape=[1]))"
      ],
      "execution_count": 291,
      "outputs": []
    },
    {
      "cell_type": "code",
      "metadata": {
        "id": "6TO35qC8yI7X"
      },
      "source": [
        "modeloMES.compile(optimizer=tf.keras.optimizers.Adam(1),loss='mean_squared_error')"
      ],
      "execution_count": 292,
      "outputs": []
    },
    {
      "cell_type": "code",
      "metadata": {
        "colab": {
          "base_uri": "https://localhost:8080/"
        },
        "id": "DrzzWNdfyNx5",
        "outputId": "ef0a6b71-cf3f-43df-f720-f70e0486a8e4"
      },
      "source": [
        "cantidad = float(input(\"MESES ACUMULADOS: \"))\n",
        "\n",
        "EpoMES = modeloMES.fit(X,Y,epochs=2000, verbose=0)\n",
        "RES = modeloMES.predict([cantidad])\n",
        "print(RES)\n"
      ],
      "execution_count": 294,
      "outputs": [
        {
          "output_type": "stream",
          "name": "stdout",
          "text": [
            "MESES ACUMULADOS: 8\n",
            "[[-18390.184]]\n"
          ]
        }
      ]
    }
  ]
}