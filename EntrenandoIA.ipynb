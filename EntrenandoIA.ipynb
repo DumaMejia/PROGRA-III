{
  "nbformat": 4,
  "nbformat_minor": 0,
  "metadata": {
    "colab": {
      "name": "EntrenandoIA.ipynb",
      "provenance": [],
      "authorship_tag": "ABX9TyMteQjCbuCHnzovPl11w1sI",
      "include_colab_link": true
    },
    "kernelspec": {
      "name": "python3",
      "display_name": "Python 3"
    },
    "language_info": {
      "name": "python"
    }
  },
  "cells": [
    {
      "cell_type": "markdown",
      "metadata": {
        "id": "view-in-github",
        "colab_type": "text"
      },
      "source": [
        "<a href=\"https://colab.research.google.com/github/USIS007420/PROGRA-III/blob/main/EntrenandoIA.ipynb\" target=\"_parent\"><img src=\"https://colab.research.google.com/assets/colab-badge.svg\" alt=\"Open In Colab\"/></a>"
      ]
    },
    {
      "cell_type": "markdown",
      "metadata": {
        "id": "HIMVpM-0knDk"
      },
      "source": [
        "LONGITUDES"
      ]
    },
    {
      "cell_type": "code",
      "metadata": {
        "id": "6Pirq9j1idCl"
      },
      "source": [
        "#importacion de librerias a utilizar\n",
        "import tensorflow as tf\n",
        "import pandas as pd\n",
        "import matplotlib.pyplot as plt\n",
        "import seaborn as sns"
      ],
      "execution_count": 33,
      "outputs": []
    },
    {
      "cell_type": "code",
      "metadata": {
        "id": "xnu4Dk0KkuQc"
      },
      "source": [
        "#leer los datos de entrenamiento\n",
        "MC = pd.read_csv(\"/content/Libro1.csv\", sep=\";\")\n",
        "#print(MC)"
      ],
      "execution_count": 22,
      "outputs": []
    },
    {
      "cell_type": "code",
      "metadata": {
        "id": "Ba8ivtqmpL3N"
      },
      "source": [
        "#separar los datos de entrada y salida\n",
        "M = MC[\"metro\"]\n",
        "C = MC[\"centimetros\"]"
      ],
      "execution_count": 3,
      "outputs": []
    },
    {
      "cell_type": "code",
      "metadata": {
        "id": "VXU--iAmp1Zf"
      },
      "source": [
        "#creando el modelo de entrenamiento\n",
        "modelo = tf.keras.Sequential()\n",
        "modelo.add(tf.keras.layers.Dense(units=1, input_shape=[1]))"
      ],
      "execution_count": 4,
      "outputs": []
    },
    {
      "cell_type": "code",
      "metadata": {
        "id": "4ZkvLIcCp5YA"
      },
      "source": [
        "#compilar el modelo de entrenamiento\n",
        "modelo.compile(optimizer=tf.keras.optimizers.Adam(1),loss='mean_squared_error')"
      ],
      "execution_count": 5,
      "outputs": []
    },
    {
      "cell_type": "code",
      "metadata": {
        "id": "WQgTTevnp95b"
      },
      "source": [
        "#entrenar el modelo de IA METROS A CENTIMETROS\n",
        "hisotiral = modelo.fit(C,M,epochs=500, verbose=0)"
      ],
      "execution_count": 16,
      "outputs": []
    },
    {
      "cell_type": "code",
      "metadata": {
        "colab": {
          "base_uri": "https://localhost:8080/"
        },
        "id": "aF-Mb2xlulk1",
        "outputId": "5736210e-502b-436e-f0b4-f556851a8efc"
      },
      "source": [
        "CM = modelo.predict([671])\n",
        "print(CM)"
      ],
      "execution_count": 21,
      "outputs": [
        {
          "output_type": "stream",
          "name": "stdout",
          "text": [
            "[[6.699866]]\n"
          ]
        }
      ]
    },
    {
      "cell_type": "code",
      "metadata": {
        "colab": {
          "base_uri": "https://localhost:8080/"
        },
        "id": "Y14TZI2nmOcf",
        "outputId": "93af12f1-9e56-4be8-b71e-649979d4f9a0"
      },
      "source": [
        "MC = pd.read_csv(\"/content/Libro1.csv\", sep=\";\")\n",
        "\n",
        "modelo = tf.keras.Sequential()\n",
        "modelo.add(tf.keras.layers.Dense(units=1, input_shape=[1]))\n",
        "\n",
        "modelo.compile(optimizer=tf.keras.optimizers.Adam(1),loss='mean_squared_error')\n",
        "\n",
        "\n",
        "etiquetas = [\n",
        "           [],\n",
        "           [\"1. METROS\", \"2. CENTIMETROS\", \"3. KILOMETRO\", \"4. YARDA\"],\n",
        "           []\n",
        "]\n",
        "\n",
        "print(\"MENU\")\n",
        "print(\"1 = LONGITUD\")\n",
        "\n",
        "conversor = int(input(\"Conversor: \"))\n",
        "\n",
        "print( etiquetas[conversor] )\n",
        "\n",
        "de = int(input(\"DE: \"))\n",
        "a = int(input(\"A: \"))\n",
        "cantidad = float(input(\"Cant: \"))\n",
        "\n",
        "if de==1:\n",
        "  X = MC[\"metro\"]\n",
        "if a==1:\n",
        "  Y = MC[\"metro\"]\n",
        "if de==2:\n",
        "  X = MC[\"centimetros\"]\n",
        "if a==2:\n",
        "  Y = MC[\"centimetros\"]\n",
        "if de==3:\n",
        "  X = MC[\"kilometro\"]\n",
        "if a==3:\n",
        "  Y = MC[\"kilometro\"]\n",
        "\n",
        "hisotiral = modelo.fit(X,Y,epochs=2000, verbose=0)\n",
        "RES = modelo.predict([cantidad])\n",
        "print(RES)\n"
      ],
      "execution_count": 52,
      "outputs": [
        {
          "output_type": "stream",
          "name": "stdout",
          "text": [
            "MENU\n",
            "1 = LONGITUD\n",
            "Conversor: 1\n",
            "['1. METROS', '2. CENTIMETROS', '3. KILOMETRO', '4. YARDA']\n",
            "DE: 1\n",
            "A: 3\n",
            "Cant: 10\n",
            "[[0.01]]\n"
          ]
        }
      ]
    }
  ]
}