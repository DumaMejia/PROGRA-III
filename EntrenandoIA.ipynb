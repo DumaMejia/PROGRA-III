{
  "nbformat": 4,
  "nbformat_minor": 0,
  "metadata": {
    "colab": {
      "name": "EntrenandoIA.ipynb",
      "provenance": [],
      "authorship_tag": "ABX9TyOpxZw3pZkwnpP9a1sXQOOF",
      "include_colab_link": true
    },
    "kernelspec": {
      "name": "python3",
      "display_name": "Python 3"
    },
    "language_info": {
      "name": "python"
    }
  },
  "cells": [
    {
      "cell_type": "markdown",
      "metadata": {
        "id": "view-in-github",
        "colab_type": "text"
      },
      "source": [
        "<a href=\"https://colab.research.google.com/github/USIS007420/PROGRA-III/blob/main/EntrenandoIA.ipynb\" target=\"_parent\"><img src=\"https://colab.research.google.com/assets/colab-badge.svg\" alt=\"Open In Colab\"/></a>"
      ]
    },
    {
      "cell_type": "markdown",
      "metadata": {
        "id": "HIMVpM-0knDk"
      },
      "source": [
        "LONGITUDES"
      ]
    },
    {
      "cell_type": "code",
      "metadata": {
        "id": "6Pirq9j1idCl"
      },
      "source": [
        "#importacion de librerias a utilizar\n",
        "import tensorflow as tf\n",
        "import pandas as pd\n",
        "import matplotlib.pyplot as plt\n",
        "import seaborn as sns"
      ],
      "execution_count": 33,
      "outputs": []
    },
    {
      "cell_type": "code",
      "metadata": {
        "colab": {
          "base_uri": "https://localhost:8080/"
        },
        "id": "Y14TZI2nmOcf",
        "outputId": "418d1869-0594-4502-8453-1f541feeb952"
      },
      "source": [
        "MC = pd.read_csv(\"/content/Libro1.csv\", sep=\";\")\n",
        "\n",
        "modelo = tf.keras.Sequential()\n",
        "modelo.add(tf.keras.layers.Dense(units=1, input_shape=[1]))\n",
        "\n",
        "modelo.compile(optimizer=tf.keras.optimizers.Adam(1),loss='mean_squared_error')\n",
        "\n",
        "\n",
        "etiquetas = [\n",
        "           [],\n",
        "           [\"1. METROS\", \"2. CENTIMETROS\", \"3. KILOMETRO\", \"4. YARDA\"],\n",
        "           []\n",
        "]\n",
        "\n",
        "print(\"MENU\")\n",
        "print(\"1 = LONGITUD\")\n",
        "\n",
        "conversor = int(input(\"Conversor: \"))\n",
        "\n",
        "print( etiquetas[conversor] )\n",
        "\n",
        "de = int(input(\"DE: \"))\n",
        "a = int(input(\"A: \"))\n",
        "cantidad = float(input(\"Cant: \"))\n",
        "\n",
        "if de==1:\n",
        "  X = MC[\"metro\"]\n",
        "if a==1:\n",
        "  Y = MC[\"metro\"]\n",
        "if de==2:\n",
        "  X = MC[\"centimetros\"]\n",
        "if a==2:\n",
        "  Y = MC[\"centimetros\"]\n",
        "if de==3:\n",
        "  X = MC[\"kilometro\"]\n",
        "if a==3:\n",
        "  Y = MC[\"kilometro\"]\n",
        "if de==4:\n",
        "  X = MC[\"yarda\"]\n",
        "if a==4:\n",
        "  Y = MC[\"yarda\"]\n",
        "\n",
        "hisotiral = modelo.fit(X,Y,epochs=2000, verbose=0)\n",
        "RES = modelo.predict([cantidad])\n",
        "print(RES)\n"
      ],
      "execution_count": 58,
      "outputs": [
        {
          "output_type": "stream",
          "name": "stdout",
          "text": [
            "MENU\n",
            "1 = LONGITUD\n",
            "Conversor: 1\n",
            "['1. METROS', '2. CENTIMETROS', '3. KILOMETRO', '4. YARDA']\n",
            "DE: 3\n",
            "A: 4\n",
            "Cant: 1.25\n",
            "[[1294.8734]]\n"
          ]
        }
      ]
    },
    {
      "cell_type": "code",
      "metadata": {
        "id": "WZTZUDaVRh5m"
      },
      "source": [
        ""
      ],
      "execution_count": 56,
      "outputs": []
    }
  ]
}